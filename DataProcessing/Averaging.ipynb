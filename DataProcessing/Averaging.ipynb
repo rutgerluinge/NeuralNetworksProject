{
 "metadata": {
  "language_info": {
   "codemirror_mode": {
    "name": "ipython",
    "version": 3
   },
   "file_extension": ".py",
   "mimetype": "text/x-python",
   "name": "python",
   "nbconvert_exporter": "python",
   "pygments_lexer": "ipython3",
   "version": "3.8.0"
  },
  "orig_nbformat": 4,
  "kernelspec": {
   "name": "python3",
   "display_name": "Python 3.8.0 64-bit"
  },
  "interpreter": {
   "hash": "c93eb79a4de8b813ee462aca0ebe18c208a4748341e878e931952cb4f431f726"
  }
 },
 "nbformat": 4,
 "nbformat_minor": 2,
 "cells": [
  {
   "cell_type": "code",
   "execution_count": 2,
   "metadata": {},
   "outputs": [],
   "source": [
    "import pandas as pd\n",
    "import numpy as np"
   ]
  },
  {
   "cell_type": "code",
   "execution_count": 3,
   "metadata": {},
   "outputs": [],
   "source": [
    "df = pd.read_csv('../datasets/processed/filled_gabs.csv')"
   ]
  },
  {
   "cell_type": "code",
   "execution_count": 10,
   "metadata": {},
   "outputs": [],
   "source": [
    "usage = df['usage'].copy()"
   ]
  },
  {
   "cell_type": "code",
   "execution_count": 7,
   "metadata": {},
   "outputs": [],
   "source": [
    "# 10 minutes = 6 points * 10\n",
    "window = 60"
   ]
  },
  {
   "cell_type": "code",
   "execution_count": 11,
   "metadata": {},
   "outputs": [],
   "source": [
    "# \n",
    "new_usage = []\n",
    "for i in range(window, len(usage), window):\n",
    "    amount = 0\n",
    "    for w in range(window):\n",
    "        amount += usage[i-w]\n",
    "    amount = amount // window\n",
    "    new_usage.append(amount)\n"
   ]
  },
  {
   "cell_type": "code",
   "execution_count": 14,
   "metadata": {},
   "outputs": [
    {
     "output_type": "stream",
     "name": "stdout",
     "text": [
      "[465.0, 1093.0, 1358.0, 1547.1666666666667, 1367.8333333333333, 1452.5, 1366.3333333333333, 1419.8333333333333, 1477.6666666666667, 714.0, 519.6666666666666, 382.6666666666667, 552.8333333333334, 399.5, 403.3333333333333, 467.6666666666667, 582.6666666666666, 1500.3333333333333, 1325.3333333333333, 1428.8333333333333]\n5347\n"
     ]
    }
   ],
   "source": [
    "print(new_usage[:20])\n",
    "print(len(new_usage))"
   ]
  },
  {
   "cell_type": "code",
   "execution_count": null,
   "metadata": {},
   "outputs": [],
   "source": []
  }
 ]
}
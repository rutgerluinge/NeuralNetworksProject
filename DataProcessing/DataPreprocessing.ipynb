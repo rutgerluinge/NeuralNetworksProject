{
 "metadata": {
  "language_info": {
   "codemirror_mode": {
    "name": "ipython",
    "version": 3
   },
   "file_extension": ".py",
   "mimetype": "text/x-python",
   "name": "python",
   "nbconvert_exporter": "python",
   "pygments_lexer": "ipython3",
   "version": "3.8.0"
  },
  "orig_nbformat": 2,
  "kernelspec": {
   "name": "python3",
   "display_name": "Python 3.8.0 64-bit"
  },
  "metadata": {
   "interpreter": {
    "hash": "c93eb79a4de8b813ee462aca0ebe18c208a4748341e878e931952cb4f431f726"
   }
  },
  "interpreter": {
   "hash": "c93eb79a4de8b813ee462aca0ebe18c208a4748341e878e931952cb4f431f726"
  }
 },
 "nbformat": 4,
 "nbformat_minor": 2,
 "cells": [
  {
   "cell_type": "code",
   "execution_count": 1,
   "metadata": {},
   "outputs": [],
   "source": [
    "import pandas as pd\n",
    "import numpy as np"
   ]
  },
  {
   "cell_type": "code",
   "execution_count": 52,
   "metadata": {},
   "outputs": [
    {
     "output_type": "execute_result",
     "data": {
      "text/plain": [
       "                         time  usage\n",
       "0  2020-05-16T23:59:57.823000   2430\n",
       "1  2020-05-16T23:59:47.327000   2430\n",
       "2  2020-05-16T23:59:36.833000   2410\n",
       "3  2020-05-16T23:59:26.311000   2410\n",
       "4  2020-05-16T23:59:15.806000   2430"
      ],
      "text/html": "<div>\n<style scoped>\n    .dataframe tbody tr th:only-of-type {\n        vertical-align: middle;\n    }\n\n    .dataframe tbody tr th {\n        vertical-align: top;\n    }\n\n    .dataframe thead th {\n        text-align: right;\n    }\n</style>\n<table border=\"1\" class=\"dataframe\">\n  <thead>\n    <tr style=\"text-align: right;\">\n      <th></th>\n      <th>time</th>\n      <th>usage</th>\n    </tr>\n  </thead>\n  <tbody>\n    <tr>\n      <th>0</th>\n      <td>2020-05-16T23:59:57.823000</td>\n      <td>2430</td>\n    </tr>\n    <tr>\n      <th>1</th>\n      <td>2020-05-16T23:59:47.327000</td>\n      <td>2430</td>\n    </tr>\n    <tr>\n      <th>2</th>\n      <td>2020-05-16T23:59:36.833000</td>\n      <td>2410</td>\n    </tr>\n    <tr>\n      <th>3</th>\n      <td>2020-05-16T23:59:26.311000</td>\n      <td>2410</td>\n    </tr>\n    <tr>\n      <th>4</th>\n      <td>2020-05-16T23:59:15.806000</td>\n      <td>2430</td>\n    </tr>\n  </tbody>\n</table>\n</div>"
     },
     "metadata": {},
     "execution_count": 52
    }
   ],
   "source": [
    "# loads all original data\n",
    "ds = pd.read_csv('../datasets/original/usage.csv')\n",
    "ds.head()"
   ]
  },
  {
   "cell_type": "code",
   "execution_count": 58,
   "metadata": {},
   "outputs": [],
   "source": [
    "ds_rev = ds.iloc[::-1].copy()"
   ]
  },
  {
   "cell_type": "code",
   "execution_count": 59,
   "metadata": {},
   "outputs": [
    {
     "output_type": "execute_result",
     "data": {
      "text/plain": [
       "                         time  usage\n",
       "0  2020-04-05T00:00:06.563000    880\n",
       "1  2020-04-05T00:00:17.079000    850\n",
       "2  2020-04-05T00:00:27.583000    830\n",
       "3  2020-04-05T00:00:38.096000    850\n",
       "4  2020-04-05T00:00:48.602000    860"
      ],
      "text/html": "<div>\n<style scoped>\n    .dataframe tbody tr th:only-of-type {\n        vertical-align: middle;\n    }\n\n    .dataframe tbody tr th {\n        vertical-align: top;\n    }\n\n    .dataframe thead th {\n        text-align: right;\n    }\n</style>\n<table border=\"1\" class=\"dataframe\">\n  <thead>\n    <tr style=\"text-align: right;\">\n      <th></th>\n      <th>time</th>\n      <th>usage</th>\n    </tr>\n  </thead>\n  <tbody>\n    <tr>\n      <th>0</th>\n      <td>2020-04-05T00:00:06.563000</td>\n      <td>880</td>\n    </tr>\n    <tr>\n      <th>1</th>\n      <td>2020-04-05T00:00:17.079000</td>\n      <td>850</td>\n    </tr>\n    <tr>\n      <th>2</th>\n      <td>2020-04-05T00:00:27.583000</td>\n      <td>830</td>\n    </tr>\n    <tr>\n      <th>3</th>\n      <td>2020-04-05T00:00:38.096000</td>\n      <td>850</td>\n    </tr>\n    <tr>\n      <th>4</th>\n      <td>2020-04-05T00:00:48.602000</td>\n      <td>860</td>\n    </tr>\n  </tbody>\n</table>\n</div>"
     },
     "metadata": {},
     "execution_count": 59
    }
   ],
   "source": [
    "ds_rev.reset_index(inplace=True)\n",
    "del ds_rev['index']\n",
    "ds_rev.head()"
   ]
  },
  {
   "cell_type": "code",
   "execution_count": 65,
   "metadata": {},
   "outputs": [],
   "source": [
    "ds_rev.to_csv('../datasets/processed/usage_ordered.csv', index=False)"
   ]
  },
  {
   "cell_type": "code",
   "execution_count": 66,
   "metadata": {},
   "outputs": [
    {
     "output_type": "execute_result",
     "data": {
      "text/plain": [
       "                         time  usage\n",
       "0  2020-04-05T00:00:06.563000    880\n",
       "1  2020-04-05T00:00:17.079000    850\n",
       "2  2020-04-05T00:00:27.583000    830\n",
       "3  2020-04-05T00:00:38.096000    850\n",
       "4  2020-04-05T00:00:48.602000    860"
      ],
      "text/html": "<div>\n<style scoped>\n    .dataframe tbody tr th:only-of-type {\n        vertical-align: middle;\n    }\n\n    .dataframe tbody tr th {\n        vertical-align: top;\n    }\n\n    .dataframe thead th {\n        text-align: right;\n    }\n</style>\n<table border=\"1\" class=\"dataframe\">\n  <thead>\n    <tr style=\"text-align: right;\">\n      <th></th>\n      <th>time</th>\n      <th>usage</th>\n    </tr>\n  </thead>\n  <tbody>\n    <tr>\n      <th>0</th>\n      <td>2020-04-05T00:00:06.563000</td>\n      <td>880</td>\n    </tr>\n    <tr>\n      <th>1</th>\n      <td>2020-04-05T00:00:17.079000</td>\n      <td>850</td>\n    </tr>\n    <tr>\n      <th>2</th>\n      <td>2020-04-05T00:00:27.583000</td>\n      <td>830</td>\n    </tr>\n    <tr>\n      <th>3</th>\n      <td>2020-04-05T00:00:38.096000</td>\n      <td>850</td>\n    </tr>\n    <tr>\n      <th>4</th>\n      <td>2020-04-05T00:00:48.602000</td>\n      <td>860</td>\n    </tr>\n  </tbody>\n</table>\n</div>"
     },
     "metadata": {},
     "execution_count": 66
    }
   ],
   "source": [
    "# From here to process the ordered data\n",
    "\n",
    "df = pd.read_csv('../datasets/processed/usage_ordered.csv')\n",
    "df.head()"
   ]
  },
  {
   "cell_type": "code",
   "execution_count": 67,
   "metadata": {},
   "outputs": [
    {
     "output_type": "execute_result",
     "data": {
      "text/plain": [
       "(10520, -2690)"
      ]
     },
     "metadata": {},
     "execution_count": 67
    }
   ],
   "source": [
    "max = df['usage'].max()\n",
    "min = df['usage'].min()\n",
    "max, min"
   ]
  },
  {
   "cell_type": "code",
   "execution_count": 86,
   "metadata": {},
   "outputs": [],
   "source": [
    "mult = 1.0\n",
    "max_mult = max * mult\n",
    "max_mult = int(max_mult)"
   ]
  },
  {
   "cell_type": "code",
   "execution_count": 87,
   "metadata": {},
   "outputs": [
    {
     "output_type": "execute_result",
     "data": {
      "text/plain": [
       "                         time     usage\n",
       "0  2020-04-05T00:00:06.563000  0.083650\n",
       "1  2020-04-05T00:00:17.079000  0.080798\n",
       "2  2020-04-05T00:00:27.583000  0.078897\n",
       "3  2020-04-05T00:00:38.096000  0.080798\n",
       "4  2020-04-05T00:00:48.602000  0.081749"
      ],
      "text/html": "<div>\n<style scoped>\n    .dataframe tbody tr th:only-of-type {\n        vertical-align: middle;\n    }\n\n    .dataframe tbody tr th {\n        vertical-align: top;\n    }\n\n    .dataframe thead th {\n        text-align: right;\n    }\n</style>\n<table border=\"1\" class=\"dataframe\">\n  <thead>\n    <tr style=\"text-align: right;\">\n      <th></th>\n      <th>time</th>\n      <th>usage</th>\n    </tr>\n  </thead>\n  <tbody>\n    <tr>\n      <th>0</th>\n      <td>2020-04-05T00:00:06.563000</td>\n      <td>0.083650</td>\n    </tr>\n    <tr>\n      <th>1</th>\n      <td>2020-04-05T00:00:17.079000</td>\n      <td>0.080798</td>\n    </tr>\n    <tr>\n      <th>2</th>\n      <td>2020-04-05T00:00:27.583000</td>\n      <td>0.078897</td>\n    </tr>\n    <tr>\n      <th>3</th>\n      <td>2020-04-05T00:00:38.096000</td>\n      <td>0.080798</td>\n    </tr>\n    <tr>\n      <th>4</th>\n      <td>2020-04-05T00:00:48.602000</td>\n      <td>0.081749</td>\n    </tr>\n  </tbody>\n</table>\n</div>"
     },
     "metadata": {},
     "execution_count": 87
    }
   ],
   "source": [
    "# Normalize usage between [x, 0.909] with max value a bit below 1, where x is a negative value\n",
    "# Note: the minimum value is not close to the max value so no worries about x < -1\n",
    "df_normalized = df.copy()\n",
    "df_normalized['usage'] = df_normalized['usage']/(max_mult)\n",
    "df_normalized.head()"
   ]
  },
  {
   "cell_type": "code",
   "execution_count": 88,
   "metadata": {},
   "outputs": [],
   "source": [
    "# save normalized\n",
    "\n",
    "ds_rev.to_csv('../datasets/processed/usage_normalized_' + str(max_mult) + '.csv', index=False)"
   ]
  },
  {
   "cell_type": "code",
   "execution_count": 9,
   "metadata": {},
   "outputs": [
    {
     "output_type": "execute_result",
     "data": {
      "text/plain": [
       "                      date  usage   day  month\n",
       "0  2021-04-12 00:00:02.404  570.0  12.0    4.0\n",
       "1  2021-04-12 00:00:12.911  570.0  12.0    4.0\n",
       "2  2021-04-12 00:00:23.429  580.0  12.0    4.0\n",
       "3  2021-04-12 00:00:33.935  600.0  12.0    4.0\n",
       "4  2021-04-12 00:00:44.455  590.0  12.0    4.0"
      ],
      "text/html": "<div>\n<style scoped>\n    .dataframe tbody tr th:only-of-type {\n        vertical-align: middle;\n    }\n\n    .dataframe tbody tr th {\n        vertical-align: top;\n    }\n\n    .dataframe thead th {\n        text-align: right;\n    }\n</style>\n<table border=\"1\" class=\"dataframe\">\n  <thead>\n    <tr style=\"text-align: right;\">\n      <th></th>\n      <th>date</th>\n      <th>usage</th>\n      <th>day</th>\n      <th>month</th>\n    </tr>\n  </thead>\n  <tbody>\n    <tr>\n      <th>0</th>\n      <td>2021-04-12 00:00:02.404</td>\n      <td>570.0</td>\n      <td>12.0</td>\n      <td>4.0</td>\n    </tr>\n    <tr>\n      <th>1</th>\n      <td>2021-04-12 00:00:12.911</td>\n      <td>570.0</td>\n      <td>12.0</td>\n      <td>4.0</td>\n    </tr>\n    <tr>\n      <th>2</th>\n      <td>2021-04-12 00:00:23.429</td>\n      <td>580.0</td>\n      <td>12.0</td>\n      <td>4.0</td>\n    </tr>\n    <tr>\n      <th>3</th>\n      <td>2021-04-12 00:00:33.935</td>\n      <td>600.0</td>\n      <td>12.0</td>\n      <td>4.0</td>\n    </tr>\n    <tr>\n      <th>4</th>\n      <td>2021-04-12 00:00:44.455</td>\n      <td>590.0</td>\n      <td>12.0</td>\n      <td>4.0</td>\n    </tr>\n  </tbody>\n</table>\n</div>"
     },
     "metadata": {},
     "execution_count": 9
    }
   ],
   "source": [
    "df = pd.read_csv('../datasets/processed/filled_gabs.csv')\n",
    "df.head()"
   ]
  },
  {
   "cell_type": "code",
   "execution_count": 11,
   "metadata": {},
   "outputs": [
    {
     "output_type": "execute_result",
     "data": {
      "text/plain": [
       "1663.789249617438"
      ]
     },
     "metadata": {},
     "execution_count": 11
    }
   ],
   "source": [
    "df_centered = df.copy()\n",
    "df['usage'].mean()"
   ]
  },
  {
   "cell_type": "code",
   "execution_count": 16,
   "metadata": {},
   "outputs": [
    {
     "output_type": "execute_result",
     "data": {
      "text/plain": [
       "(14916.210750382563, -4153.789249617438)"
      ]
     },
     "metadata": {},
     "execution_count": 16
    }
   ],
   "source": [
    "df_centered['usage'] = df['usage'] - df['usage'].mean()\n",
    "df_centered['usage'].max(), df_centered['usage'].min()\n"
   ]
  },
  {
   "cell_type": "code",
   "execution_count": 17,
   "metadata": {},
   "outputs": [
    {
     "output_type": "execute_result",
     "data": {
      "text/plain": [
       "(-0.2784748297761148, 1.0)"
      ]
     },
     "metadata": {},
     "execution_count": 17
    }
   ],
   "source": [
    "df_centered['usage'] = df_centered['usage']/(df_centered['usage'].max())\n",
    "df_centered['usage'].min(), df_centered['usage'].max()"
   ]
  },
  {
   "cell_type": "code",
   "execution_count": null,
   "metadata": {},
   "outputs": [],
   "source": [
    "df_centered.to_csv('../datasets/processed/usage_centered.csv', index = False)"
   ]
  }
 ]
}